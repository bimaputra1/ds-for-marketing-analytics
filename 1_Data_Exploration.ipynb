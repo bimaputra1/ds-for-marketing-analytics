{
 "cells": [
  {
   "cell_type": "markdown",
   "metadata": {
    "colab_type": "text",
    "id": "view-in-github"
   },
   "source": [
    "<a href=\"https://colab.research.google.com/github/bimaputra1/ds-for-marketing-analytics/blob/Dev-1/1_Data_Exploration.ipynb\" target=\"_parent\"><img src=\"https://colab.research.google.com/assets/colab-badge.svg\" alt=\"Open In Colab\"/></a>"
   ]
  },
  {
   "cell_type": "markdown",
   "metadata": {},
   "source": [
    "# Data Science for Marketing Analytics\n",
    "by: **Bima Putra Pratama**\n",
    "_____"
   ]
  },
  {
   "cell_type": "markdown",
   "metadata": {},
   "source": [
    "## Data Exploration"
   ]
  },
  {
   "cell_type": "markdown",
   "metadata": {},
   "source": [
    "Pada sesi kali ini kita akan melakukan beberapa teknik persiapan data dan eksplorasi data menggunakan library pandas dan juga seaborn. Tujuan dari sesi ini kita dapat melakukan pemanggilan data, melakukan pembersihan data dan juga melakukan visualisasi data.\n",
    "\n",
    "Data set yang di gunakan pada workshop kali merupakan data toko retail II dari UCI Repository yang sudah di modifikasi. Sedangkan data asli yang akan kita gunakan dapat diakses melalui link [disini](https://archive.ics.uci.edu/ml/datasets/Online+Retail+II). Data yang akan kita gunakan adalah data transaksi pada tahun 2010 dan 2011 dari sebuah toko di Inggris. Selain itu juga kita memiliki satu tabel yang berisi demografi umur dan gender dari tiap-tiap pelanngan yang berbelanja di toko tersebut."
   ]
  },
  {
   "cell_type": "markdown",
   "metadata": {},
   "source": [
    "Library yang dibutuhkan untuk latihan kali ini adalah sebagai berikut:"
   ]
  },
  {
   "cell_type": "code",
   "execution_count": 126,
   "metadata": {},
   "outputs": [],
   "source": [
    "import pandas as pd\n",
    "import seaborn as sns\n",
    "import matplotlib.pyplot as plt\n",
    "\n",
    "%matplotlib inline\n",
    "pd.set_option('display.max_columns', None)"
   ]
  },
  {
   "cell_type": "markdown",
   "metadata": {},
   "source": [
    "### 1. Import Data"
   ]
  },
  {
   "cell_type": "markdown",
   "metadata": {},
   "source": [
    "Pada bagian ini kita akan melakukan pemanggilan data dan masing-masing data akan disimpan ke dalam data frame. Selanjutnya kita akan melihat contoh data yang ada di dalam data frame tersebut."
   ]
  },
  {
   "cell_type": "code",
   "execution_count": 127,
   "metadata": {},
   "outputs": [
    {
     "name": "stderr",
     "output_type": "stream",
     "text": [
      "/Users/pratamab/opt/anaconda3/lib/python3.7/site-packages/IPython/core/interactiveshell.py:3063: DtypeWarning: Columns (1) have mixed types.Specify dtype option on import or set low_memory=False.\n",
      "  interactivity=interactivity, compiler=compiler, result=result)\n"
     ]
    }
   ],
   "source": [
    "# Import Dataset\n",
    "\n",
    "## transaksi 2010\n",
    "df_10 = pd.read_csv('data/transaction_2010.csv')\n",
    "\n",
    "## transaksi 2011\n",
    "df_11 = pd.read_csv('data/transaction_2011.csv')\n",
    "\n",
    "## demografi pelanngan\n",
    "df_cust = pd.read_csv('data/customers.csv')"
   ]
  },
  {
   "cell_type": "code",
   "execution_count": 128,
   "metadata": {},
   "outputs": [
    {
     "name": "stdout",
     "output_type": "stream",
     "text": [
      "\n",
      "----- transaksi 2010 -----\n",
      "\n"
     ]
    },
    {
     "data": {
      "text/html": [
       "<div>\n",
       "<style scoped>\n",
       "    .dataframe tbody tr th:only-of-type {\n",
       "        vertical-align: middle;\n",
       "    }\n",
       "\n",
       "    .dataframe tbody tr th {\n",
       "        vertical-align: top;\n",
       "    }\n",
       "\n",
       "    .dataframe thead th {\n",
       "        text-align: right;\n",
       "    }\n",
       "</style>\n",
       "<table border=\"1\" class=\"dataframe\">\n",
       "  <thead>\n",
       "    <tr style=\"text-align: right;\">\n",
       "      <th></th>\n",
       "      <th>Invoice</th>\n",
       "      <th>StockCode</th>\n",
       "      <th>Description</th>\n",
       "      <th>Quantity</th>\n",
       "      <th>InvoiceDate</th>\n",
       "      <th>Price</th>\n",
       "      <th>Customer ID</th>\n",
       "      <th>Country</th>\n",
       "    </tr>\n",
       "  </thead>\n",
       "  <tbody>\n",
       "    <tr>\n",
       "      <th>0</th>\n",
       "      <td>493446</td>\n",
       "      <td>10002</td>\n",
       "      <td>INFLATABLE POLITICAL GLOBE</td>\n",
       "      <td>3</td>\n",
       "      <td>4/1/10 14:00</td>\n",
       "      <td>0.85</td>\n",
       "      <td>17807</td>\n",
       "      <td>United Kingdom</td>\n",
       "    </tr>\n",
       "    <tr>\n",
       "      <th>1</th>\n",
       "      <td>493878</td>\n",
       "      <td>10002</td>\n",
       "      <td>INFLATABLE POLITICAL GLOBE</td>\n",
       "      <td>12</td>\n",
       "      <td>8/1/10 9:08</td>\n",
       "      <td>0.85</td>\n",
       "      <td>14769</td>\n",
       "      <td>United Kingdom</td>\n",
       "    </tr>\n",
       "    <tr>\n",
       "      <th>2</th>\n",
       "      <td>494390</td>\n",
       "      <td>10002</td>\n",
       "      <td>INFLATABLE POLITICAL GLOBE</td>\n",
       "      <td>110</td>\n",
       "      <td>14/1/10 10:04</td>\n",
       "      <td>0.85</td>\n",
       "      <td>18041</td>\n",
       "      <td>United Kingdom</td>\n",
       "    </tr>\n",
       "    <tr>\n",
       "      <th>3</th>\n",
       "      <td>494439</td>\n",
       "      <td>10002</td>\n",
       "      <td>INFLATABLE POLITICAL GLOBE</td>\n",
       "      <td>30</td>\n",
       "      <td>14/1/10 12:30</td>\n",
       "      <td>0.85</td>\n",
       "      <td>12931</td>\n",
       "      <td>United Kingdom</td>\n",
       "    </tr>\n",
       "    <tr>\n",
       "      <th>4</th>\n",
       "      <td>494644</td>\n",
       "      <td>10002</td>\n",
       "      <td>INFLATABLE POLITICAL GLOBE</td>\n",
       "      <td>3</td>\n",
       "      <td>17/1/10 12:12</td>\n",
       "      <td>0.85</td>\n",
       "      <td>16595</td>\n",
       "      <td>United Kingdom</td>\n",
       "    </tr>\n",
       "    <tr>\n",
       "      <th>5</th>\n",
       "      <td>494987</td>\n",
       "      <td>10002</td>\n",
       "      <td>INFLATABLE POLITICAL GLOBE</td>\n",
       "      <td>12</td>\n",
       "      <td>20/1/10 11:31</td>\n",
       "      <td>0.85</td>\n",
       "      <td>18223</td>\n",
       "      <td>United Kingdom</td>\n",
       "    </tr>\n",
       "    <tr>\n",
       "      <th>6</th>\n",
       "      <td>495183</td>\n",
       "      <td>10002</td>\n",
       "      <td>INFLATABLE POLITICAL GLOBE</td>\n",
       "      <td>12</td>\n",
       "      <td>21/1/10 13:48</td>\n",
       "      <td>0.85</td>\n",
       "      <td>15296</td>\n",
       "      <td>United Kingdom</td>\n",
       "    </tr>\n",
       "    <tr>\n",
       "      <th>7</th>\n",
       "      <td>495227</td>\n",
       "      <td>10002</td>\n",
       "      <td>INFLATABLE POLITICAL GLOBE</td>\n",
       "      <td>6</td>\n",
       "      <td>21/1/10 19:11</td>\n",
       "      <td>0.85</td>\n",
       "      <td>14713</td>\n",
       "      <td>United Kingdom</td>\n",
       "    </tr>\n",
       "    <tr>\n",
       "      <th>8</th>\n",
       "      <td>495382</td>\n",
       "      <td>10002</td>\n",
       "      <td>INFLATABLE POLITICAL GLOBE</td>\n",
       "      <td>10</td>\n",
       "      <td>24/1/10 13:55</td>\n",
       "      <td>0.85</td>\n",
       "      <td>14522</td>\n",
       "      <td>United Kingdom</td>\n",
       "    </tr>\n",
       "    <tr>\n",
       "      <th>9</th>\n",
       "      <td>495534</td>\n",
       "      <td>10002</td>\n",
       "      <td>INFLATABLE POLITICAL GLOBE</td>\n",
       "      <td>12</td>\n",
       "      <td>25/1/10 15:36</td>\n",
       "      <td>0.85</td>\n",
       "      <td>14032</td>\n",
       "      <td>United Kingdom</td>\n",
       "    </tr>\n",
       "  </tbody>\n",
       "</table>\n",
       "</div>"
      ],
      "text/plain": [
       "  Invoice StockCode                  Description  Quantity    InvoiceDate  \\\n",
       "0  493446     10002  INFLATABLE POLITICAL GLOBE          3   4/1/10 14:00   \n",
       "1  493878     10002  INFLATABLE POLITICAL GLOBE         12    8/1/10 9:08   \n",
       "2  494390     10002  INFLATABLE POLITICAL GLOBE        110  14/1/10 10:04   \n",
       "3  494439     10002  INFLATABLE POLITICAL GLOBE         30  14/1/10 12:30   \n",
       "4  494644     10002  INFLATABLE POLITICAL GLOBE          3  17/1/10 12:12   \n",
       "5  494987     10002  INFLATABLE POLITICAL GLOBE         12  20/1/10 11:31   \n",
       "6  495183     10002  INFLATABLE POLITICAL GLOBE         12  21/1/10 13:48   \n",
       "7  495227     10002  INFLATABLE POLITICAL GLOBE          6  21/1/10 19:11   \n",
       "8  495382     10002  INFLATABLE POLITICAL GLOBE         10  24/1/10 13:55   \n",
       "9  495534     10002  INFLATABLE POLITICAL GLOBE         12  25/1/10 15:36   \n",
       "\n",
       "   Price  Customer ID         Country  \n",
       "0   0.85        17807  United Kingdom  \n",
       "1   0.85        14769  United Kingdom  \n",
       "2   0.85        18041  United Kingdom  \n",
       "3   0.85        12931  United Kingdom  \n",
       "4   0.85        16595  United Kingdom  \n",
       "5   0.85        18223  United Kingdom  \n",
       "6   0.85        15296  United Kingdom  \n",
       "7   0.85        14713  United Kingdom  \n",
       "8   0.85        14522  United Kingdom  \n",
       "9   0.85        14032  United Kingdom  "
      ]
     },
     "metadata": {},
     "output_type": "display_data"
    },
    {
     "name": "stdout",
     "output_type": "stream",
     "text": [
      "\n",
      "----- transaksi 2011 -----\n",
      "\n"
     ]
    },
    {
     "data": {
      "text/html": [
       "<div>\n",
       "<style scoped>\n",
       "    .dataframe tbody tr th:only-of-type {\n",
       "        vertical-align: middle;\n",
       "    }\n",
       "\n",
       "    .dataframe tbody tr th {\n",
       "        vertical-align: top;\n",
       "    }\n",
       "\n",
       "    .dataframe thead th {\n",
       "        text-align: right;\n",
       "    }\n",
       "</style>\n",
       "<table border=\"1\" class=\"dataframe\">\n",
       "  <thead>\n",
       "    <tr style=\"text-align: right;\">\n",
       "      <th></th>\n",
       "      <th>Invoice</th>\n",
       "      <th>StockCode</th>\n",
       "      <th>Description</th>\n",
       "      <th>Quantity</th>\n",
       "      <th>InvoiceDate</th>\n",
       "      <th>Price</th>\n",
       "      <th>Customer ID</th>\n",
       "      <th>Country</th>\n",
       "    </tr>\n",
       "  </thead>\n",
       "  <tbody>\n",
       "    <tr>\n",
       "      <th>0</th>\n",
       "      <td>540277</td>\n",
       "      <td>10002</td>\n",
       "      <td>INFLATABLE POLITICAL GLOBE</td>\n",
       "      <td>60</td>\n",
       "      <td>6/1/11 12:18</td>\n",
       "      <td>0.85</td>\n",
       "      <td>14258</td>\n",
       "      <td>United Kingdom</td>\n",
       "    </tr>\n",
       "    <tr>\n",
       "      <th>1</th>\n",
       "      <td>540732</td>\n",
       "      <td>10002</td>\n",
       "      <td>INFLATABLE POLITICAL GLOBE</td>\n",
       "      <td>12</td>\n",
       "      <td>11/1/11 10:19</td>\n",
       "      <td>0.85</td>\n",
       "      <td>16122</td>\n",
       "      <td>United Kingdom</td>\n",
       "    </tr>\n",
       "    <tr>\n",
       "      <th>2</th>\n",
       "      <td>540798</td>\n",
       "      <td>10002</td>\n",
       "      <td>INFLATABLE POLITICAL GLOBE</td>\n",
       "      <td>12</td>\n",
       "      <td>11/1/11 12:11</td>\n",
       "      <td>0.85</td>\n",
       "      <td>17365</td>\n",
       "      <td>United Kingdom</td>\n",
       "    </tr>\n",
       "    <tr>\n",
       "      <th>3</th>\n",
       "      <td>541094</td>\n",
       "      <td>10002</td>\n",
       "      <td>INFLATABLE POLITICAL GLOBE</td>\n",
       "      <td>11</td>\n",
       "      <td>13/1/11 13:36</td>\n",
       "      <td>0.85</td>\n",
       "      <td>13246</td>\n",
       "      <td>United Kingdom</td>\n",
       "    </tr>\n",
       "    <tr>\n",
       "      <th>4</th>\n",
       "      <td>541248</td>\n",
       "      <td>10002</td>\n",
       "      <td>INFLATABLE POLITICAL GLOBE</td>\n",
       "      <td>1</td>\n",
       "      <td>16/1/11 13:04</td>\n",
       "      <td>0.85</td>\n",
       "      <td>12748</td>\n",
       "      <td>United Kingdom</td>\n",
       "    </tr>\n",
       "    <tr>\n",
       "      <th>5</th>\n",
       "      <td>541262</td>\n",
       "      <td>10002</td>\n",
       "      <td>INFLATABLE POLITICAL GLOBE</td>\n",
       "      <td>6</td>\n",
       "      <td>16/1/11 15:50</td>\n",
       "      <td>0.85</td>\n",
       "      <td>18069</td>\n",
       "      <td>United Kingdom</td>\n",
       "    </tr>\n",
       "    <tr>\n",
       "      <th>6</th>\n",
       "      <td>541615</td>\n",
       "      <td>10002</td>\n",
       "      <td>INFLATABLE POLITICAL GLOBE</td>\n",
       "      <td>6</td>\n",
       "      <td>20/1/11 10:43</td>\n",
       "      <td>0.85</td>\n",
       "      <td>16395</td>\n",
       "      <td>United Kingdom</td>\n",
       "    </tr>\n",
       "    <tr>\n",
       "      <th>7</th>\n",
       "      <td>541698</td>\n",
       "      <td>10002</td>\n",
       "      <td>INFLATABLE POLITICAL GLOBE</td>\n",
       "      <td>18</td>\n",
       "      <td>20/1/11 19:16</td>\n",
       "      <td>0.85</td>\n",
       "      <td>14713</td>\n",
       "      <td>United Kingdom</td>\n",
       "    </tr>\n",
       "    <tr>\n",
       "      <th>8</th>\n",
       "      <td>541849</td>\n",
       "      <td>10002</td>\n",
       "      <td>INFLATABLE POLITICAL GLOBE</td>\n",
       "      <td>2</td>\n",
       "      <td>23/1/11 13:34</td>\n",
       "      <td>0.85</td>\n",
       "      <td>13230</td>\n",
       "      <td>United Kingdom</td>\n",
       "    </tr>\n",
       "    <tr>\n",
       "      <th>9</th>\n",
       "      <td>542096</td>\n",
       "      <td>10002</td>\n",
       "      <td>INFLATABLE POLITICAL GLOBE</td>\n",
       "      <td>2</td>\n",
       "      <td>25/1/11 12:52</td>\n",
       "      <td>0.85</td>\n",
       "      <td>17236</td>\n",
       "      <td>United Kingdom</td>\n",
       "    </tr>\n",
       "  </tbody>\n",
       "</table>\n",
       "</div>"
      ],
      "text/plain": [
       "  Invoice StockCode                  Description  Quantity    InvoiceDate  \\\n",
       "0  540277     10002  INFLATABLE POLITICAL GLOBE         60   6/1/11 12:18   \n",
       "1  540732     10002  INFLATABLE POLITICAL GLOBE         12  11/1/11 10:19   \n",
       "2  540798     10002  INFLATABLE POLITICAL GLOBE         12  11/1/11 12:11   \n",
       "3  541094     10002  INFLATABLE POLITICAL GLOBE         11  13/1/11 13:36   \n",
       "4  541248     10002  INFLATABLE POLITICAL GLOBE          1  16/1/11 13:04   \n",
       "5  541262     10002  INFLATABLE POLITICAL GLOBE          6  16/1/11 15:50   \n",
       "6  541615     10002  INFLATABLE POLITICAL GLOBE          6  20/1/11 10:43   \n",
       "7  541698     10002  INFLATABLE POLITICAL GLOBE         18  20/1/11 19:16   \n",
       "8  541849     10002  INFLATABLE POLITICAL GLOBE          2  23/1/11 13:34   \n",
       "9  542096     10002  INFLATABLE POLITICAL GLOBE          2  25/1/11 12:52   \n",
       "\n",
       "   Price  Customer ID         Country  \n",
       "0   0.85        14258  United Kingdom  \n",
       "1   0.85        16122  United Kingdom  \n",
       "2   0.85        17365  United Kingdom  \n",
       "3   0.85        13246  United Kingdom  \n",
       "4   0.85        12748  United Kingdom  \n",
       "5   0.85        18069  United Kingdom  \n",
       "6   0.85        16395  United Kingdom  \n",
       "7   0.85        14713  United Kingdom  \n",
       "8   0.85        13230  United Kingdom  \n",
       "9   0.85        17236  United Kingdom  "
      ]
     },
     "metadata": {},
     "output_type": "display_data"
    },
    {
     "name": "stdout",
     "output_type": "stream",
     "text": [
      "\n",
      "----- customer data -----\n",
      "\n"
     ]
    },
    {
     "data": {
      "text/html": [
       "<div>\n",
       "<style scoped>\n",
       "    .dataframe tbody tr th:only-of-type {\n",
       "        vertical-align: middle;\n",
       "    }\n",
       "\n",
       "    .dataframe tbody tr th {\n",
       "        vertical-align: top;\n",
       "    }\n",
       "\n",
       "    .dataframe thead th {\n",
       "        text-align: right;\n",
       "    }\n",
       "</style>\n",
       "<table border=\"1\" class=\"dataframe\">\n",
       "  <thead>\n",
       "    <tr style=\"text-align: right;\">\n",
       "      <th></th>\n",
       "      <th>Cust_ID</th>\n",
       "      <th>Age</th>\n",
       "      <th>Gender</th>\n",
       "    </tr>\n",
       "  </thead>\n",
       "  <tbody>\n",
       "    <tr>\n",
       "      <th>0</th>\n",
       "      <td>13001</td>\n",
       "      <td>49</td>\n",
       "      <td>MALE</td>\n",
       "    </tr>\n",
       "    <tr>\n",
       "      <th>1</th>\n",
       "      <td>13276</td>\n",
       "      <td>21</td>\n",
       "      <td>FEMALE</td>\n",
       "    </tr>\n",
       "    <tr>\n",
       "      <th>2</th>\n",
       "      <td>13439</td>\n",
       "      <td>37</td>\n",
       "      <td>MALE</td>\n",
       "    </tr>\n",
       "    <tr>\n",
       "      <th>3</th>\n",
       "      <td>14176</td>\n",
       "      <td>44</td>\n",
       "      <td>MALE</td>\n",
       "    </tr>\n",
       "    <tr>\n",
       "      <th>4</th>\n",
       "      <td>13134</td>\n",
       "      <td>45</td>\n",
       "      <td>MALE</td>\n",
       "    </tr>\n",
       "    <tr>\n",
       "      <th>5</th>\n",
       "      <td>14175</td>\n",
       "      <td>49</td>\n",
       "      <td>MALE</td>\n",
       "    </tr>\n",
       "    <tr>\n",
       "      <th>6</th>\n",
       "      <td>12842</td>\n",
       "      <td>36</td>\n",
       "      <td>FEMALE</td>\n",
       "    </tr>\n",
       "    <tr>\n",
       "      <th>7</th>\n",
       "      <td>14173</td>\n",
       "      <td>34</td>\n",
       "      <td>FEMALE</td>\n",
       "    </tr>\n",
       "    <tr>\n",
       "      <th>8</th>\n",
       "      <td>13357</td>\n",
       "      <td>41</td>\n",
       "      <td>FEMALE</td>\n",
       "    </tr>\n",
       "    <tr>\n",
       "      <th>9</th>\n",
       "      <td>14167</td>\n",
       "      <td>21</td>\n",
       "      <td>FEMALE</td>\n",
       "    </tr>\n",
       "  </tbody>\n",
       "</table>\n",
       "</div>"
      ],
      "text/plain": [
       "   Cust_ID  Age  Gender\n",
       "0    13001   49    MALE\n",
       "1    13276   21  FEMALE\n",
       "2    13439   37    MALE\n",
       "3    14176   44    MALE\n",
       "4    13134   45    MALE\n",
       "5    14175   49    MALE\n",
       "6    12842   36  FEMALE\n",
       "7    14173   34  FEMALE\n",
       "8    13357   41  FEMALE\n",
       "9    14167   21  FEMALE"
      ]
     },
     "metadata": {},
     "output_type": "display_data"
    }
   ],
   "source": [
    "# Checking Dataset\n",
    "\n",
    "print('\\n----- transaksi 2010 -----\\n')\n",
    "display(df_10.head(10))\n",
    "\n",
    "print('\\n----- transaksi 2011 -----\\n')\n",
    "display(df_11.head(10))\n",
    "\n",
    "print('\\n----- customer data -----\\n')\n",
    "display(df_cust.head(10))"
   ]
  },
  {
   "cell_type": "markdown",
   "metadata": {},
   "source": [
    "### 2. Pemrosesan Data"
   ]
  },
  {
   "cell_type": "markdown",
   "metadata": {},
   "source": [
    "#### Eksplorasi Data Transaksi 2010"
   ]
  },
  {
   "cell_type": "markdown",
   "metadata": {},
   "source": [
    "***Memahami tipe data***"
   ]
  },
  {
   "cell_type": "markdown",
   "metadata": {},
   "source": [
    "Kita perlu mengetahui tipe data dari data-data yang kita gunakan apakah sudah sesuai dengan yang di harapkan atau belum."
   ]
  },
  {
   "cell_type": "code",
   "execution_count": 129,
   "metadata": {},
   "outputs": [
    {
     "name": "stdout",
     "output_type": "stream",
     "text": [
      "<class 'pandas.core.frame.DataFrame'>\n",
      "RangeIndex: 349173 entries, 0 to 349172\n",
      "Data columns (total 8 columns):\n",
      " #   Column       Non-Null Count   Dtype  \n",
      "---  ------       --------------   -----  \n",
      " 0   Invoice      349173 non-null  object \n",
      " 1   StockCode    349173 non-null  object \n",
      " 2   Description  349173 non-null  object \n",
      " 3   Quantity     349173 non-null  int64  \n",
      " 4   InvoiceDate  349173 non-null  object \n",
      " 5   Price        349173 non-null  float64\n",
      " 6   Customer ID  349173 non-null  int64  \n",
      " 7   Country      349173 non-null  object \n",
      "dtypes: float64(1), int64(2), object(5)\n",
      "memory usage: 21.3+ MB\n"
     ]
    }
   ],
   "source": [
    "# Mendapatkan informasi dari dataframe\n",
    "df_10.info()"
   ]
  },
  {
   "cell_type": "markdown",
   "metadata": {},
   "source": [
    "Dari hasil perintah diatas kita dapat mengetahui jumlahh row dan kolom kita, tipe data dari setiap kolom  dan juga memory yang di gunakan. Selain itu kita juga bisa mengidentifikasi berapa jumlah dari null value pada data kita.\n",
    "\n",
    "Berdasarkan dari hasil tersebut kita perlu melakukan perubahan tipe data untuk InvoiceDate menjadi tipe tanggal dan waktu serta Customer ID menjadi tipe string."
   ]
  },
  {
   "cell_type": "code",
   "execution_count": 130,
   "metadata": {},
   "outputs": [],
   "source": [
    "# Merubah tipe data\n",
    "df_10['InvoiceDate'] = pd.to_datetime(df_10['InvoiceDate'])\n",
    "df_10['Customer ID'] = df_10['Customer ID'].astype(str)"
   ]
  },
  {
   "cell_type": "code",
   "execution_count": 131,
   "metadata": {},
   "outputs": [
    {
     "data": {
      "text/plain": [
       "Invoice                object\n",
       "StockCode              object\n",
       "Description            object\n",
       "Quantity                int64\n",
       "InvoiceDate    datetime64[ns]\n",
       "Price                 float64\n",
       "Customer ID            object\n",
       "Country                object\n",
       "dtype: object"
      ]
     },
     "execution_count": 131,
     "metadata": {},
     "output_type": "execute_result"
    }
   ],
   "source": [
    "# Pengecekan tipe data\n",
    "df_10.dtypes"
   ]
  },
  {
   "cell_type": "markdown",
   "metadata": {},
   "source": [
    "Data set kita sudah sesuai dengan yang kita perlukan"
   ]
  },
  {
   "cell_type": "markdown",
   "metadata": {},
   "source": [
    "***Statistik Deskriptif***"
   ]
  },
  {
   "cell_type": "markdown",
   "metadata": {},
   "source": [
    "Desktriptive statistik bermanfaat untuk melihat bagaimana distribusi data yang kita miliki. Pandas memiliki fungsi yang bisa dengan mudah menampilkan statistik deskriptif dari data numeric yang kita miliki"
   ]
  },
  {
   "cell_type": "code",
   "execution_count": 132,
   "metadata": {},
   "outputs": [
    {
     "data": {
      "text/html": [
       "<div>\n",
       "<style scoped>\n",
       "    .dataframe tbody tr th:only-of-type {\n",
       "        vertical-align: middle;\n",
       "    }\n",
       "\n",
       "    .dataframe tbody tr th {\n",
       "        vertical-align: top;\n",
       "    }\n",
       "\n",
       "    .dataframe thead th {\n",
       "        text-align: right;\n",
       "    }\n",
       "</style>\n",
       "<table border=\"1\" class=\"dataframe\">\n",
       "  <thead>\n",
       "    <tr style=\"text-align: right;\">\n",
       "      <th></th>\n",
       "      <th>Quantity</th>\n",
       "      <th>Price</th>\n",
       "    </tr>\n",
       "  </thead>\n",
       "  <tbody>\n",
       "    <tr>\n",
       "      <th>count</th>\n",
       "      <td>349173.00</td>\n",
       "      <td>349173.00</td>\n",
       "    </tr>\n",
       "    <tr>\n",
       "      <th>mean</th>\n",
       "      <td>11.43</td>\n",
       "      <td>3.03</td>\n",
       "    </tr>\n",
       "    <tr>\n",
       "      <th>std</th>\n",
       "      <td>69.32</td>\n",
       "      <td>4.63</td>\n",
       "    </tr>\n",
       "    <tr>\n",
       "      <th>min</th>\n",
       "      <td>-9360.00</td>\n",
       "      <td>0.00</td>\n",
       "    </tr>\n",
       "    <tr>\n",
       "      <th>25%</th>\n",
       "      <td>2.00</td>\n",
       "      <td>1.25</td>\n",
       "    </tr>\n",
       "    <tr>\n",
       "      <th>50%</th>\n",
       "      <td>4.00</td>\n",
       "      <td>1.95</td>\n",
       "    </tr>\n",
       "    <tr>\n",
       "      <th>75%</th>\n",
       "      <td>12.00</td>\n",
       "      <td>3.75</td>\n",
       "    </tr>\n",
       "    <tr>\n",
       "      <th>max</th>\n",
       "      <td>10000.00</td>\n",
       "      <td>295.00</td>\n",
       "    </tr>\n",
       "  </tbody>\n",
       "</table>\n",
       "</div>"
      ],
      "text/plain": [
       "        Quantity      Price\n",
       "count  349173.00  349173.00\n",
       "mean       11.43       3.03\n",
       "std        69.32       4.63\n",
       "min     -9360.00       0.00\n",
       "25%         2.00       1.25\n",
       "50%         4.00       1.95\n",
       "75%        12.00       3.75\n",
       "max     10000.00     295.00"
      ]
     },
     "execution_count": 132,
     "metadata": {},
     "output_type": "execute_result"
    }
   ],
   "source": [
    "# statistik deskriptif\n",
    "df_10.describe().round(2)"
   ]
  },
  {
   "cell_type": "markdown",
   "metadata": {},
   "source": [
    "Dari melihat sekilas hasil fungsi ***decribe()*** tersebut kita bisa melihat jumlah data, rata-rata, median, nilai minimal dan maksimal/\n",
    "\n",
    "Selain itu kita bisa melihat ada Quantity yang nilainya tidak benar yaity kurang dari 1. Selain itu juga ada price yang nilainya 0. Oleh karena itu kita perlu memperbaiki data set kita. "
   ]
  },
  {
   "cell_type": "code",
   "execution_count": 135,
   "metadata": {},
   "outputs": [
    {
     "name": "stdout",
     "output_type": "stream",
     "text": [
      "\n",
      "Contoh Data Nilai Quantity < 1\n",
      "\n"
     ]
    },
    {
     "data": {
      "text/html": [
       "<div>\n",
       "<style scoped>\n",
       "    .dataframe tbody tr th:only-of-type {\n",
       "        vertical-align: middle;\n",
       "    }\n",
       "\n",
       "    .dataframe tbody tr th {\n",
       "        vertical-align: top;\n",
       "    }\n",
       "\n",
       "    .dataframe thead th {\n",
       "        text-align: right;\n",
       "    }\n",
       "</style>\n",
       "<table border=\"1\" class=\"dataframe\">\n",
       "  <thead>\n",
       "    <tr style=\"text-align: right;\">\n",
       "      <th></th>\n",
       "      <th>Invoice</th>\n",
       "      <th>StockCode</th>\n",
       "      <th>Description</th>\n",
       "      <th>Quantity</th>\n",
       "      <th>InvoiceDate</th>\n",
       "      <th>Price</th>\n",
       "      <th>Customer ID</th>\n",
       "      <th>Country</th>\n",
       "    </tr>\n",
       "  </thead>\n",
       "  <tbody>\n",
       "  </tbody>\n",
       "</table>\n",
       "</div>"
      ],
      "text/plain": [
       "Empty DataFrame\n",
       "Columns: [Invoice, StockCode, Description, Quantity, InvoiceDate, Price, Customer ID, Country]\n",
       "Index: []"
      ]
     },
     "metadata": {},
     "output_type": "display_data"
    },
    {
     "name": "stdout",
     "output_type": "stream",
     "text": [
      "\n",
      "Contoh Data Nilai Price = 0 \n",
      "\n"
     ]
    },
    {
     "data": {
      "text/html": [
       "<div>\n",
       "<style scoped>\n",
       "    .dataframe tbody tr th:only-of-type {\n",
       "        vertical-align: middle;\n",
       "    }\n",
       "\n",
       "    .dataframe tbody tr th {\n",
       "        vertical-align: top;\n",
       "    }\n",
       "\n",
       "    .dataframe thead th {\n",
       "        text-align: right;\n",
       "    }\n",
       "</style>\n",
       "<table border=\"1\" class=\"dataframe\">\n",
       "  <thead>\n",
       "    <tr style=\"text-align: right;\">\n",
       "      <th></th>\n",
       "      <th>Invoice</th>\n",
       "      <th>StockCode</th>\n",
       "      <th>Description</th>\n",
       "      <th>Quantity</th>\n",
       "      <th>InvoiceDate</th>\n",
       "      <th>Price</th>\n",
       "      <th>Customer ID</th>\n",
       "      <th>Country</th>\n",
       "    </tr>\n",
       "  </thead>\n",
       "  <tbody>\n",
       "  </tbody>\n",
       "</table>\n",
       "</div>"
      ],
      "text/plain": [
       "Empty DataFrame\n",
       "Columns: [Invoice, StockCode, Description, Quantity, InvoiceDate, Price, Customer ID, Country]\n",
       "Index: []"
      ]
     },
     "metadata": {},
     "output_type": "display_data"
    }
   ],
   "source": [
    "# Identifikasi data quantity dan price\n",
    "print('\\nContoh Data Nilai Quantity < 1\\n')\n",
    "display(df_10[df_10['Quantity']<0].head())\n",
    "\n",
    "print('\\nContoh Data Nilai Price = 0 \\n')\n",
    "display(df_10[df_10['Price']<= 0].head())"
   ]
  },
  {
   "cell_type": "markdown",
   "metadata": {},
   "source": [
    "Selanjutnya kita perlu membersihkan data dari nilai yang tidak benar tersebut"
   ]
  },
  {
   "cell_type": "code",
   "execution_count": 134,
   "metadata": {},
   "outputs": [
    {
     "data": {
      "text/html": [
       "<div>\n",
       "<style scoped>\n",
       "    .dataframe tbody tr th:only-of-type {\n",
       "        vertical-align: middle;\n",
       "    }\n",
       "\n",
       "    .dataframe tbody tr th {\n",
       "        vertical-align: top;\n",
       "    }\n",
       "\n",
       "    .dataframe thead th {\n",
       "        text-align: right;\n",
       "    }\n",
       "</style>\n",
       "<table border=\"1\" class=\"dataframe\">\n",
       "  <thead>\n",
       "    <tr style=\"text-align: right;\">\n",
       "      <th></th>\n",
       "      <th>Quantity</th>\n",
       "      <th>Price</th>\n",
       "    </tr>\n",
       "  </thead>\n",
       "  <tbody>\n",
       "    <tr>\n",
       "      <th>count</th>\n",
       "      <td>341870.000000</td>\n",
       "      <td>341870.000000</td>\n",
       "    </tr>\n",
       "    <tr>\n",
       "      <th>mean</th>\n",
       "      <td>11.945816</td>\n",
       "      <td>2.992629</td>\n",
       "    </tr>\n",
       "    <tr>\n",
       "      <th>std</th>\n",
       "      <td>67.574345</td>\n",
       "      <td>4.426881</td>\n",
       "    </tr>\n",
       "    <tr>\n",
       "      <th>min</th>\n",
       "      <td>1.000000</td>\n",
       "      <td>0.030000</td>\n",
       "    </tr>\n",
       "    <tr>\n",
       "      <th>25%</th>\n",
       "      <td>2.000000</td>\n",
       "      <td>1.250000</td>\n",
       "    </tr>\n",
       "    <tr>\n",
       "      <th>50%</th>\n",
       "      <td>4.000000</td>\n",
       "      <td>1.950000</td>\n",
       "    </tr>\n",
       "    <tr>\n",
       "      <th>75%</th>\n",
       "      <td>12.000000</td>\n",
       "      <td>3.750000</td>\n",
       "    </tr>\n",
       "    <tr>\n",
       "      <th>max</th>\n",
       "      <td>10000.000000</td>\n",
       "      <td>295.000000</td>\n",
       "    </tr>\n",
       "  </tbody>\n",
       "</table>\n",
       "</div>"
      ],
      "text/plain": [
       "            Quantity          Price\n",
       "count  341870.000000  341870.000000\n",
       "mean       11.945816       2.992629\n",
       "std        67.574345       4.426881\n",
       "min         1.000000       0.030000\n",
       "25%         2.000000       1.250000\n",
       "50%         4.000000       1.950000\n",
       "75%        12.000000       3.750000\n",
       "max     10000.000000     295.000000"
      ]
     },
     "execution_count": 134,
     "metadata": {},
     "output_type": "execute_result"
    }
   ],
   "source": [
    "# Mengambil data yang memiliki Quantity > 0 dan Price > 0\n",
    "\n",
    "df_10 = df_10.loc[(df_10['Quantity'] > 0) &\n",
    "                  (df_10['Price'] > 0)]\n",
    "\n",
    "# Pengecekan hasil\n",
    "df_10.describe()"
   ]
  },
  {
   "cell_type": "markdown",
   "metadata": {},
   "source": [
    "**Congrats!** Sekarang data kita sudah memiliki data trabsaksi 2010 yang sudah bersih dari data yang tidak seharusnya. Selanjutnya kita akan melakukan explorasi data untuk transaksi tahun 2011"
   ]
  },
  {
   "cell_type": "markdown",
   "metadata": {},
   "source": [
    "****Menambah Kolom Total Sales****"
   ]
  },
  {
   "cell_type": "markdown",
   "metadata": {},
   "source": [
    "Selanjutnya kita akan menambahkan kolom baru yang berisi total sales dari tiap produk dan transaksi"
   ]
  },
  {
   "cell_type": "code",
   "execution_count": 136,
   "metadata": {},
   "outputs": [],
   "source": [
    "df_10['total_sales'] = df_10['Quantity']*df_10['Price']"
   ]
  },
  {
   "cell_type": "code",
   "execution_count": 137,
   "metadata": {},
   "outputs": [
    {
     "data": {
      "text/html": [
       "<div>\n",
       "<style scoped>\n",
       "    .dataframe tbody tr th:only-of-type {\n",
       "        vertical-align: middle;\n",
       "    }\n",
       "\n",
       "    .dataframe tbody tr th {\n",
       "        vertical-align: top;\n",
       "    }\n",
       "\n",
       "    .dataframe thead th {\n",
       "        text-align: right;\n",
       "    }\n",
       "</style>\n",
       "<table border=\"1\" class=\"dataframe\">\n",
       "  <thead>\n",
       "    <tr style=\"text-align: right;\">\n",
       "      <th></th>\n",
       "      <th>Invoice</th>\n",
       "      <th>StockCode</th>\n",
       "      <th>Description</th>\n",
       "      <th>Quantity</th>\n",
       "      <th>InvoiceDate</th>\n",
       "      <th>Price</th>\n",
       "      <th>Customer ID</th>\n",
       "      <th>Country</th>\n",
       "      <th>total_sales</th>\n",
       "    </tr>\n",
       "  </thead>\n",
       "  <tbody>\n",
       "    <tr>\n",
       "      <th>0</th>\n",
       "      <td>493446</td>\n",
       "      <td>10002</td>\n",
       "      <td>INFLATABLE POLITICAL GLOBE</td>\n",
       "      <td>3</td>\n",
       "      <td>2010-04-01 14:00:00</td>\n",
       "      <td>0.85</td>\n",
       "      <td>17807</td>\n",
       "      <td>United Kingdom</td>\n",
       "      <td>2.55</td>\n",
       "    </tr>\n",
       "    <tr>\n",
       "      <th>1</th>\n",
       "      <td>493878</td>\n",
       "      <td>10002</td>\n",
       "      <td>INFLATABLE POLITICAL GLOBE</td>\n",
       "      <td>12</td>\n",
       "      <td>2010-08-01 09:08:00</td>\n",
       "      <td>0.85</td>\n",
       "      <td>14769</td>\n",
       "      <td>United Kingdom</td>\n",
       "      <td>10.20</td>\n",
       "    </tr>\n",
       "    <tr>\n",
       "      <th>2</th>\n",
       "      <td>494390</td>\n",
       "      <td>10002</td>\n",
       "      <td>INFLATABLE POLITICAL GLOBE</td>\n",
       "      <td>110</td>\n",
       "      <td>2010-01-14 10:04:00</td>\n",
       "      <td>0.85</td>\n",
       "      <td>18041</td>\n",
       "      <td>United Kingdom</td>\n",
       "      <td>93.50</td>\n",
       "    </tr>\n",
       "    <tr>\n",
       "      <th>3</th>\n",
       "      <td>494439</td>\n",
       "      <td>10002</td>\n",
       "      <td>INFLATABLE POLITICAL GLOBE</td>\n",
       "      <td>30</td>\n",
       "      <td>2010-01-14 12:30:00</td>\n",
       "      <td>0.85</td>\n",
       "      <td>12931</td>\n",
       "      <td>United Kingdom</td>\n",
       "      <td>25.50</td>\n",
       "    </tr>\n",
       "    <tr>\n",
       "      <th>4</th>\n",
       "      <td>494644</td>\n",
       "      <td>10002</td>\n",
       "      <td>INFLATABLE POLITICAL GLOBE</td>\n",
       "      <td>3</td>\n",
       "      <td>2010-01-17 12:12:00</td>\n",
       "      <td>0.85</td>\n",
       "      <td>16595</td>\n",
       "      <td>United Kingdom</td>\n",
       "      <td>2.55</td>\n",
       "    </tr>\n",
       "  </tbody>\n",
       "</table>\n",
       "</div>"
      ],
      "text/plain": [
       "  Invoice StockCode                  Description  Quantity  \\\n",
       "0  493446     10002  INFLATABLE POLITICAL GLOBE          3   \n",
       "1  493878     10002  INFLATABLE POLITICAL GLOBE         12   \n",
       "2  494390     10002  INFLATABLE POLITICAL GLOBE        110   \n",
       "3  494439     10002  INFLATABLE POLITICAL GLOBE         30   \n",
       "4  494644     10002  INFLATABLE POLITICAL GLOBE          3   \n",
       "\n",
       "          InvoiceDate  Price Customer ID         Country  total_sales  \n",
       "0 2010-04-01 14:00:00   0.85       17807  United Kingdom         2.55  \n",
       "1 2010-08-01 09:08:00   0.85       14769  United Kingdom        10.20  \n",
       "2 2010-01-14 10:04:00   0.85       18041  United Kingdom        93.50  \n",
       "3 2010-01-14 12:30:00   0.85       12931  United Kingdom        25.50  \n",
       "4 2010-01-17 12:12:00   0.85       16595  United Kingdom         2.55  "
      ]
     },
     "execution_count": 137,
     "metadata": {},
     "output_type": "execute_result"
    }
   ],
   "source": [
    "df_10.head()"
   ]
  },
  {
   "cell_type": "markdown",
   "metadata": {},
   "source": [
    "#### Eksplorasi Data Transaksi 2011"
   ]
  },
  {
   "cell_type": "markdown",
   "metadata": {},
   "source": [
    "***Memahami tipe data***"
   ]
  },
  {
   "cell_type": "markdown",
   "metadata": {},
   "source": [
    "Kita perlu mengetahui tipe data dari data-data yang kita gunakan apakah sudah sesuai dengan yang di harapkan atau belum."
   ]
  },
  {
   "cell_type": "code",
   "execution_count": 138,
   "metadata": {},
   "outputs": [
    {
     "name": "stdout",
     "output_type": "stream",
     "text": [
      "<class 'pandas.core.frame.DataFrame'>\n",
      "RangeIndex: 336763 entries, 0 to 336762\n",
      "Data columns (total 8 columns):\n",
      " #   Column       Non-Null Count   Dtype  \n",
      "---  ------       --------------   -----  \n",
      " 0   Invoice      336763 non-null  object \n",
      " 1   StockCode    336763 non-null  object \n",
      " 2   Description  336763 non-null  object \n",
      " 3   Quantity     336763 non-null  int64  \n",
      " 4   InvoiceDate  336763 non-null  object \n",
      " 5   Price        336763 non-null  float64\n",
      " 6   Customer ID  336763 non-null  int64  \n",
      " 7   Country      336763 non-null  object \n",
      "dtypes: float64(1), int64(2), object(5)\n",
      "memory usage: 20.6+ MB\n"
     ]
    }
   ],
   "source": [
    "# Mendapatkan informasi dari dataframe\n",
    "df_11.info()"
   ]
  },
  {
   "cell_type": "markdown",
   "metadata": {},
   "source": [
    "Dari hasil perintah diatas kita dapat mengetahui jumlahh row dan kolom kita, tipe data dari setiap kolom  dan juga memory yang di gunakan. Selain itu kita juga bisa mengidentifikasi berapa jumlah dari null value pada data kita.\n",
    "\n",
    "Berdasarkan dari hasil tersebut kita perlu melakukan perubahan tipe data untuk InvoiceDate menjadi tipe tanggal dan waktu serta Customer ID menjadi tipe string."
   ]
  },
  {
   "cell_type": "code",
   "execution_count": 139,
   "metadata": {},
   "outputs": [],
   "source": [
    "# Merubah tipe data\n",
    "df_11['InvoiceDate'] = pd.to_datetime(df_11['InvoiceDate'])\n",
    "df_11['Customer ID'] = df_11['Customer ID'].astype(str)"
   ]
  },
  {
   "cell_type": "code",
   "execution_count": 140,
   "metadata": {},
   "outputs": [
    {
     "data": {
      "text/plain": [
       "Invoice                object\n",
       "StockCode              object\n",
       "Description            object\n",
       "Quantity                int64\n",
       "InvoiceDate    datetime64[ns]\n",
       "Price                 float64\n",
       "Customer ID            object\n",
       "Country                object\n",
       "dtype: object"
      ]
     },
     "execution_count": 140,
     "metadata": {},
     "output_type": "execute_result"
    }
   ],
   "source": [
    "# Pengecekan tipe data\n",
    "df_11.dtypes"
   ]
  },
  {
   "cell_type": "markdown",
   "metadata": {},
   "source": [
    "Data set kita sudah sesuai dengan yang kita perlukan"
   ]
  },
  {
   "cell_type": "markdown",
   "metadata": {},
   "source": [
    "***Statistik Deskriptif***"
   ]
  },
  {
   "cell_type": "markdown",
   "metadata": {},
   "source": [
    "Desktriptive statistik bermanfaat untuk melihat bagaimana distribusi data yang kita miliki. Pandas memiliki fungsi yang bisa dengan mudah menampilkan statistik deskriptif dari data numeric yang kita miliki"
   ]
  },
  {
   "cell_type": "code",
   "execution_count": 141,
   "metadata": {},
   "outputs": [
    {
     "data": {
      "text/html": [
       "<div>\n",
       "<style scoped>\n",
       "    .dataframe tbody tr th:only-of-type {\n",
       "        vertical-align: middle;\n",
       "    }\n",
       "\n",
       "    .dataframe tbody tr th {\n",
       "        vertical-align: top;\n",
       "    }\n",
       "\n",
       "    .dataframe thead th {\n",
       "        text-align: right;\n",
       "    }\n",
       "</style>\n",
       "<table border=\"1\" class=\"dataframe\">\n",
       "  <thead>\n",
       "    <tr style=\"text-align: right;\">\n",
       "      <th></th>\n",
       "      <th>Quantity</th>\n",
       "      <th>Price</th>\n",
       "    </tr>\n",
       "  </thead>\n",
       "  <tbody>\n",
       "    <tr>\n",
       "      <th>count</th>\n",
       "      <td>336763.00</td>\n",
       "      <td>336763.00</td>\n",
       "    </tr>\n",
       "    <tr>\n",
       "      <th>mean</th>\n",
       "      <td>11.15</td>\n",
       "      <td>2.87</td>\n",
       "    </tr>\n",
       "    <tr>\n",
       "      <th>std</th>\n",
       "      <td>271.97</td>\n",
       "      <td>4.42</td>\n",
       "    </tr>\n",
       "    <tr>\n",
       "      <th>min</th>\n",
       "      <td>-80995.00</td>\n",
       "      <td>0.00</td>\n",
       "    </tr>\n",
       "    <tr>\n",
       "      <th>25%</th>\n",
       "      <td>2.00</td>\n",
       "      <td>1.25</td>\n",
       "    </tr>\n",
       "    <tr>\n",
       "      <th>50%</th>\n",
       "      <td>4.00</td>\n",
       "      <td>1.85</td>\n",
       "    </tr>\n",
       "    <tr>\n",
       "      <th>75%</th>\n",
       "      <td>12.00</td>\n",
       "      <td>3.75</td>\n",
       "    </tr>\n",
       "    <tr>\n",
       "      <th>max</th>\n",
       "      <td>80995.00</td>\n",
       "      <td>649.50</td>\n",
       "    </tr>\n",
       "  </tbody>\n",
       "</table>\n",
       "</div>"
      ],
      "text/plain": [
       "        Quantity      Price\n",
       "count  336763.00  336763.00\n",
       "mean       11.15       2.87\n",
       "std       271.97       4.42\n",
       "min    -80995.00       0.00\n",
       "25%         2.00       1.25\n",
       "50%         4.00       1.85\n",
       "75%        12.00       3.75\n",
       "max     80995.00     649.50"
      ]
     },
     "execution_count": 141,
     "metadata": {},
     "output_type": "execute_result"
    }
   ],
   "source": [
    "# statistik deskriptif\n",
    "df_11.describe().round(2)"
   ]
  },
  {
   "cell_type": "markdown",
   "metadata": {},
   "source": [
    "Dari melihat sekilas hasil fungsi ***decribe()*** tersebut kita bisa melihat jumlah data, rata-rata, median, nilai minimal dan maksimal/\n",
    "\n",
    "Selain itu kita bisa melihat ada Quantity yang nilainya tidak benar yaity kurang dari 1. Selain itu juga ada price yang nilainya 0. Oleh karena itu kita perlu memperbaiki data set kita. "
   ]
  },
  {
   "cell_type": "code",
   "execution_count": 142,
   "metadata": {},
   "outputs": [
    {
     "name": "stdout",
     "output_type": "stream",
     "text": [
      "\n",
      "Contoh Data Nilai Quantity < 1\n",
      "\n"
     ]
    },
    {
     "data": {
      "text/html": [
       "<div>\n",
       "<style scoped>\n",
       "    .dataframe tbody tr th:only-of-type {\n",
       "        vertical-align: middle;\n",
       "    }\n",
       "\n",
       "    .dataframe tbody tr th {\n",
       "        vertical-align: top;\n",
       "    }\n",
       "\n",
       "    .dataframe thead th {\n",
       "        text-align: right;\n",
       "    }\n",
       "</style>\n",
       "<table border=\"1\" class=\"dataframe\">\n",
       "  <thead>\n",
       "    <tr style=\"text-align: right;\">\n",
       "      <th></th>\n",
       "      <th>Invoice</th>\n",
       "      <th>StockCode</th>\n",
       "      <th>Description</th>\n",
       "      <th>Quantity</th>\n",
       "      <th>InvoiceDate</th>\n",
       "      <th>Price</th>\n",
       "      <th>Customer ID</th>\n",
       "      <th>Country</th>\n",
       "    </tr>\n",
       "  </thead>\n",
       "  <tbody>\n",
       "    <tr>\n",
       "      <th>168</th>\n",
       "      <td>C558716</td>\n",
       "      <td>10133</td>\n",
       "      <td>COLOURING PENCILS BROWN TUBE</td>\n",
       "      <td>-10</td>\n",
       "      <td>2011-01-07 13:22:00</td>\n",
       "      <td>0.42</td>\n",
       "      <td>17888</td>\n",
       "      <td>United Kingdom</td>\n",
       "    </tr>\n",
       "    <tr>\n",
       "      <th>291</th>\n",
       "      <td>C571707</td>\n",
       "      <td>10135</td>\n",
       "      <td>COLOURING PENCILS BROWN TUBE</td>\n",
       "      <td>-1</td>\n",
       "      <td>2011-10-18 15:33:00</td>\n",
       "      <td>1.25</td>\n",
       "      <td>14056</td>\n",
       "      <td>United Kingdom</td>\n",
       "    </tr>\n",
       "    <tr>\n",
       "      <th>344</th>\n",
       "      <td>C565044</td>\n",
       "      <td>11001</td>\n",
       "      <td>ASSTD DESIGN RACING CAR PEN</td>\n",
       "      <td>-180</td>\n",
       "      <td>2011-08-31 17:02:00</td>\n",
       "      <td>1.27</td>\n",
       "      <td>12931</td>\n",
       "      <td>United Kingdom</td>\n",
       "    </tr>\n",
       "    <tr>\n",
       "      <th>351</th>\n",
       "      <td>C568412</td>\n",
       "      <td>11001</td>\n",
       "      <td>ASSTD DESIGN RACING CAR PEN</td>\n",
       "      <td>-1</td>\n",
       "      <td>2011-09-27 10:54:00</td>\n",
       "      <td>1.69</td>\n",
       "      <td>14456</td>\n",
       "      <td>United Kingdom</td>\n",
       "    </tr>\n",
       "    <tr>\n",
       "      <th>355</th>\n",
       "      <td>C569682</td>\n",
       "      <td>11001</td>\n",
       "      <td>ASSTD DESIGN RACING CAR PEN</td>\n",
       "      <td>-2</td>\n",
       "      <td>2011-05-10 14:33:00</td>\n",
       "      <td>1.69</td>\n",
       "      <td>15351</td>\n",
       "      <td>United Kingdom</td>\n",
       "    </tr>\n",
       "  </tbody>\n",
       "</table>\n",
       "</div>"
      ],
      "text/plain": [
       "     Invoice StockCode                   Description  Quantity  \\\n",
       "168  C558716     10133  COLOURING PENCILS BROWN TUBE       -10   \n",
       "291  C571707     10135  COLOURING PENCILS BROWN TUBE        -1   \n",
       "344  C565044     11001   ASSTD DESIGN RACING CAR PEN      -180   \n",
       "351  C568412     11001   ASSTD DESIGN RACING CAR PEN        -1   \n",
       "355  C569682     11001   ASSTD DESIGN RACING CAR PEN        -2   \n",
       "\n",
       "            InvoiceDate  Price Customer ID         Country  \n",
       "168 2011-01-07 13:22:00   0.42       17888  United Kingdom  \n",
       "291 2011-10-18 15:33:00   1.25       14056  United Kingdom  \n",
       "344 2011-08-31 17:02:00   1.27       12931  United Kingdom  \n",
       "351 2011-09-27 10:54:00   1.69       14456  United Kingdom  \n",
       "355 2011-05-10 14:33:00   1.69       15351  United Kingdom  "
      ]
     },
     "metadata": {},
     "output_type": "display_data"
    },
    {
     "name": "stdout",
     "output_type": "stream",
     "text": [
      "\n",
      "Contoh Data Nilai Price = 0 \n",
      "\n"
     ]
    },
    {
     "data": {
      "text/html": [
       "<div>\n",
       "<style scoped>\n",
       "    .dataframe tbody tr th:only-of-type {\n",
       "        vertical-align: middle;\n",
       "    }\n",
       "\n",
       "    .dataframe tbody tr th {\n",
       "        vertical-align: top;\n",
       "    }\n",
       "\n",
       "    .dataframe thead th {\n",
       "        text-align: right;\n",
       "    }\n",
       "</style>\n",
       "<table border=\"1\" class=\"dataframe\">\n",
       "  <thead>\n",
       "    <tr style=\"text-align: right;\">\n",
       "      <th></th>\n",
       "      <th>Invoice</th>\n",
       "      <th>StockCode</th>\n",
       "      <th>Description</th>\n",
       "      <th>Quantity</th>\n",
       "      <th>InvoiceDate</th>\n",
       "      <th>Price</th>\n",
       "      <th>Customer ID</th>\n",
       "      <th>Country</th>\n",
       "    </tr>\n",
       "  </thead>\n",
       "  <tbody>\n",
       "    <tr>\n",
       "      <th>31078</th>\n",
       "      <td>572893</td>\n",
       "      <td>21208</td>\n",
       "      <td>PASTEL COLOUR HONEYCOMB FAN</td>\n",
       "      <td>5</td>\n",
       "      <td>2011-10-26 14:36:00</td>\n",
       "      <td>0.0</td>\n",
       "      <td>18059</td>\n",
       "      <td>United Kingdom</td>\n",
       "    </tr>\n",
       "    <tr>\n",
       "      <th>81731</th>\n",
       "      <td>548318</td>\n",
       "      <td>22055</td>\n",
       "      <td>MINI CAKE STAND  HANGING STRAWBERY</td>\n",
       "      <td>5</td>\n",
       "      <td>2011-03-30 12:45:00</td>\n",
       "      <td>0.0</td>\n",
       "      <td>13113</td>\n",
       "      <td>United Kingdom</td>\n",
       "    </tr>\n",
       "    <tr>\n",
       "      <th>82171</th>\n",
       "      <td>547417</td>\n",
       "      <td>22062</td>\n",
       "      <td>CERAMIC BOWL WITH LOVE HEART DESIGN</td>\n",
       "      <td>36</td>\n",
       "      <td>2011-03-23 10:25:00</td>\n",
       "      <td>0.0</td>\n",
       "      <td>13239</td>\n",
       "      <td>United Kingdom</td>\n",
       "    </tr>\n",
       "    <tr>\n",
       "      <th>82532</th>\n",
       "      <td>574175</td>\n",
       "      <td>22065</td>\n",
       "      <td>CHRISTMAS PUDDING TRINKET POT</td>\n",
       "      <td>12</td>\n",
       "      <td>2011-03-11 11:47:00</td>\n",
       "      <td>0.0</td>\n",
       "      <td>14110</td>\n",
       "      <td>United Kingdom</td>\n",
       "    </tr>\n",
       "    <tr>\n",
       "      <th>87076</th>\n",
       "      <td>575579</td>\n",
       "      <td>22089</td>\n",
       "      <td>PAPER BUNTING VINTAGE PAISLEY</td>\n",
       "      <td>24</td>\n",
       "      <td>2011-10-11 11:49:00</td>\n",
       "      <td>0.0</td>\n",
       "      <td>13081</td>\n",
       "      <td>United Kingdom</td>\n",
       "    </tr>\n",
       "  </tbody>\n",
       "</table>\n",
       "</div>"
      ],
      "text/plain": [
       "      Invoice StockCode                          Description  Quantity  \\\n",
       "31078  572893     21208          PASTEL COLOUR HONEYCOMB FAN         5   \n",
       "81731  548318     22055   MINI CAKE STAND  HANGING STRAWBERY         5   \n",
       "82171  547417     22062  CERAMIC BOWL WITH LOVE HEART DESIGN        36   \n",
       "82532  574175     22065       CHRISTMAS PUDDING TRINKET POT         12   \n",
       "87076  575579     22089        PAPER BUNTING VINTAGE PAISLEY        24   \n",
       "\n",
       "              InvoiceDate  Price Customer ID         Country  \n",
       "31078 2011-10-26 14:36:00    0.0       18059  United Kingdom  \n",
       "81731 2011-03-30 12:45:00    0.0       13113  United Kingdom  \n",
       "82171 2011-03-23 10:25:00    0.0       13239  United Kingdom  \n",
       "82532 2011-03-11 11:47:00    0.0       14110  United Kingdom  \n",
       "87076 2011-10-11 11:49:00    0.0       13081  United Kingdom  "
      ]
     },
     "metadata": {},
     "output_type": "display_data"
    }
   ],
   "source": [
    "# Identifikasi data quantity dan price\n",
    "print('\\nContoh Data Nilai Quantity < 1\\n')\n",
    "display(df_11[df_11['Quantity']<0].head())\n",
    "\n",
    "print('\\nContoh Data Nilai Price = 0 \\n')\n",
    "display(df_11[df_11['Price']<= 0].head())"
   ]
  },
  {
   "cell_type": "markdown",
   "metadata": {},
   "source": [
    "Selanjutnya kita perlu membersihkan data dari nilai yang tidak benar tersebut"
   ]
  },
  {
   "cell_type": "code",
   "execution_count": 143,
   "metadata": {},
   "outputs": [
    {
     "data": {
      "text/html": [
       "<div>\n",
       "<style scoped>\n",
       "    .dataframe tbody tr th:only-of-type {\n",
       "        vertical-align: middle;\n",
       "    }\n",
       "\n",
       "    .dataframe tbody tr th {\n",
       "        vertical-align: top;\n",
       "    }\n",
       "\n",
       "    .dataframe thead th {\n",
       "        text-align: right;\n",
       "    }\n",
       "</style>\n",
       "<table border=\"1\" class=\"dataframe\">\n",
       "  <thead>\n",
       "    <tr style=\"text-align: right;\">\n",
       "      <th></th>\n",
       "      <th>Quantity</th>\n",
       "      <th>Price</th>\n",
       "    </tr>\n",
       "  </thead>\n",
       "  <tbody>\n",
       "    <tr>\n",
       "      <th>count</th>\n",
       "      <td>330073.000000</td>\n",
       "      <td>330073.000000</td>\n",
       "    </tr>\n",
       "    <tr>\n",
       "      <th>mean</th>\n",
       "      <td>12.063810</td>\n",
       "      <td>2.841258</td>\n",
       "    </tr>\n",
       "    <tr>\n",
       "      <th>std</th>\n",
       "      <td>195.679183</td>\n",
       "      <td>4.254411</td>\n",
       "    </tr>\n",
       "    <tr>\n",
       "      <th>min</th>\n",
       "      <td>1.000000</td>\n",
       "      <td>0.040000</td>\n",
       "    </tr>\n",
       "    <tr>\n",
       "      <th>25%</th>\n",
       "      <td>2.000000</td>\n",
       "      <td>1.250000</td>\n",
       "    </tr>\n",
       "    <tr>\n",
       "      <th>50%</th>\n",
       "      <td>4.000000</td>\n",
       "      <td>1.790000</td>\n",
       "    </tr>\n",
       "    <tr>\n",
       "      <th>75%</th>\n",
       "      <td>12.000000</td>\n",
       "      <td>3.750000</td>\n",
       "    </tr>\n",
       "    <tr>\n",
       "      <th>max</th>\n",
       "      <td>80995.000000</td>\n",
       "      <td>649.500000</td>\n",
       "    </tr>\n",
       "  </tbody>\n",
       "</table>\n",
       "</div>"
      ],
      "text/plain": [
       "            Quantity          Price\n",
       "count  330073.000000  330073.000000\n",
       "mean       12.063810       2.841258\n",
       "std       195.679183       4.254411\n",
       "min         1.000000       0.040000\n",
       "25%         2.000000       1.250000\n",
       "50%         4.000000       1.790000\n",
       "75%        12.000000       3.750000\n",
       "max     80995.000000     649.500000"
      ]
     },
     "execution_count": 143,
     "metadata": {},
     "output_type": "execute_result"
    }
   ],
   "source": [
    "# Mengambil data yang memiliki Quantity > 0 dan Price > 0\n",
    "\n",
    "df_11 = df_11.loc[(df_11['Quantity'] > 0) &\n",
    "                  (df_11['Price'] > 0)]\n",
    "\n",
    "# Pengecekan hasil\n",
    "df_11.describe()"
   ]
  },
  {
   "cell_type": "markdown",
   "metadata": {},
   "source": [
    "****Menambah Kolom Total Sales****"
   ]
  },
  {
   "cell_type": "markdown",
   "metadata": {},
   "source": [
    "Selanjutnya kita akan menambahkan kolom baru yang berisi total sales dari tiap produk dan transaksi"
   ]
  },
  {
   "cell_type": "code",
   "execution_count": 144,
   "metadata": {},
   "outputs": [],
   "source": [
    "df_11['total_sales'] = df_11['Quantity']*df_11['Price']"
   ]
  },
  {
   "cell_type": "code",
   "execution_count": 145,
   "metadata": {},
   "outputs": [
    {
     "data": {
      "text/html": [
       "<div>\n",
       "<style scoped>\n",
       "    .dataframe tbody tr th:only-of-type {\n",
       "        vertical-align: middle;\n",
       "    }\n",
       "\n",
       "    .dataframe tbody tr th {\n",
       "        vertical-align: top;\n",
       "    }\n",
       "\n",
       "    .dataframe thead th {\n",
       "        text-align: right;\n",
       "    }\n",
       "</style>\n",
       "<table border=\"1\" class=\"dataframe\">\n",
       "  <thead>\n",
       "    <tr style=\"text-align: right;\">\n",
       "      <th></th>\n",
       "      <th>Invoice</th>\n",
       "      <th>StockCode</th>\n",
       "      <th>Description</th>\n",
       "      <th>Quantity</th>\n",
       "      <th>InvoiceDate</th>\n",
       "      <th>Price</th>\n",
       "      <th>Customer ID</th>\n",
       "      <th>Country</th>\n",
       "      <th>total_sales</th>\n",
       "    </tr>\n",
       "  </thead>\n",
       "  <tbody>\n",
       "    <tr>\n",
       "      <th>0</th>\n",
       "      <td>540277</td>\n",
       "      <td>10002</td>\n",
       "      <td>INFLATABLE POLITICAL GLOBE</td>\n",
       "      <td>60</td>\n",
       "      <td>2011-06-01 12:18:00</td>\n",
       "      <td>0.85</td>\n",
       "      <td>14258</td>\n",
       "      <td>United Kingdom</td>\n",
       "      <td>51.00</td>\n",
       "    </tr>\n",
       "    <tr>\n",
       "      <th>1</th>\n",
       "      <td>540732</td>\n",
       "      <td>10002</td>\n",
       "      <td>INFLATABLE POLITICAL GLOBE</td>\n",
       "      <td>12</td>\n",
       "      <td>2011-11-01 10:19:00</td>\n",
       "      <td>0.85</td>\n",
       "      <td>16122</td>\n",
       "      <td>United Kingdom</td>\n",
       "      <td>10.20</td>\n",
       "    </tr>\n",
       "    <tr>\n",
       "      <th>2</th>\n",
       "      <td>540798</td>\n",
       "      <td>10002</td>\n",
       "      <td>INFLATABLE POLITICAL GLOBE</td>\n",
       "      <td>12</td>\n",
       "      <td>2011-11-01 12:11:00</td>\n",
       "      <td>0.85</td>\n",
       "      <td>17365</td>\n",
       "      <td>United Kingdom</td>\n",
       "      <td>10.20</td>\n",
       "    </tr>\n",
       "    <tr>\n",
       "      <th>3</th>\n",
       "      <td>541094</td>\n",
       "      <td>10002</td>\n",
       "      <td>INFLATABLE POLITICAL GLOBE</td>\n",
       "      <td>11</td>\n",
       "      <td>2011-01-13 13:36:00</td>\n",
       "      <td>0.85</td>\n",
       "      <td>13246</td>\n",
       "      <td>United Kingdom</td>\n",
       "      <td>9.35</td>\n",
       "    </tr>\n",
       "    <tr>\n",
       "      <th>4</th>\n",
       "      <td>541248</td>\n",
       "      <td>10002</td>\n",
       "      <td>INFLATABLE POLITICAL GLOBE</td>\n",
       "      <td>1</td>\n",
       "      <td>2011-01-16 13:04:00</td>\n",
       "      <td>0.85</td>\n",
       "      <td>12748</td>\n",
       "      <td>United Kingdom</td>\n",
       "      <td>0.85</td>\n",
       "    </tr>\n",
       "  </tbody>\n",
       "</table>\n",
       "</div>"
      ],
      "text/plain": [
       "  Invoice StockCode                  Description  Quantity  \\\n",
       "0  540277     10002  INFLATABLE POLITICAL GLOBE         60   \n",
       "1  540732     10002  INFLATABLE POLITICAL GLOBE         12   \n",
       "2  540798     10002  INFLATABLE POLITICAL GLOBE         12   \n",
       "3  541094     10002  INFLATABLE POLITICAL GLOBE         11   \n",
       "4  541248     10002  INFLATABLE POLITICAL GLOBE          1   \n",
       "\n",
       "          InvoiceDate  Price Customer ID         Country  total_sales  \n",
       "0 2011-06-01 12:18:00   0.85       14258  United Kingdom        51.00  \n",
       "1 2011-11-01 10:19:00   0.85       16122  United Kingdom        10.20  \n",
       "2 2011-11-01 12:11:00   0.85       17365  United Kingdom        10.20  \n",
       "3 2011-01-13 13:36:00   0.85       13246  United Kingdom         9.35  \n",
       "4 2011-01-16 13:04:00   0.85       12748  United Kingdom         0.85  "
      ]
     },
     "execution_count": 145,
     "metadata": {},
     "output_type": "execute_result"
    }
   ],
   "source": [
    "df_11.head()"
   ]
  },
  {
   "cell_type": "markdown",
   "metadata": {},
   "source": [
    "**Congrats!** Sekarang data kita sudah memiliki data trabsaksi 2011 yang sudah bersih dari data yang tidak seharusnya."
   ]
  },
  {
   "cell_type": "markdown",
   "metadata": {},
   "source": [
    "****Menggabungkan data customer dengan kedua data transaksi****"
   ]
  },
  {
   "cell_type": "markdown",
   "metadata": {},
   "source": [
    "Untuk menggabungkan dua data frame ini kolom yang akan kita jadikan key join harus memiliki tipe data yang sama"
   ]
  },
  {
   "cell_type": "code",
   "execution_count": 163,
   "metadata": {},
   "outputs": [
    {
     "data": {
      "text/plain": [
       "Cust_ID    object\n",
       "Age         int64\n",
       "Gender     object\n",
       "dtype: object"
      ]
     },
     "execution_count": 163,
     "metadata": {},
     "output_type": "execute_result"
    }
   ],
   "source": [
    "# check tipe data customers\n",
    "df_cust.dtypes"
   ]
  },
  {
   "cell_type": "markdown",
   "metadata": {},
   "source": [
    "Jadi untuk bisa melakukan join, kita harus merubah tipe data Cust_ID menjadi str"
   ]
  },
  {
   "cell_type": "code",
   "execution_count": 165,
   "metadata": {},
   "outputs": [
    {
     "data": {
      "text/plain": [
       "Cust_ID    object\n",
       "Age         int64\n",
       "Gender     object\n",
       "dtype: object"
      ]
     },
     "execution_count": 165,
     "metadata": {},
     "output_type": "execute_result"
    }
   ],
   "source": [
    "# Merubah tipe data\n",
    "df_cust['Cust_ID'] = df_cust['Cust_ID'].astype(str)\n",
    "\n",
    "# Mengecek tipe data\n",
    "df_cust.dtypes"
   ]
  },
  {
   "cell_type": "markdown",
   "metadata": {},
   "source": [
    "Setelah tipe data sesuai, kita bisa menggabungkan data customer dengan data transaksi. Untuk sesi kali ini kita hanya akan menggunakan data yang ada di kedua dataframe. Sehingga kita akan menggunakan inner join."
   ]
  },
  {
   "cell_type": "code",
   "execution_count": 169,
   "metadata": {},
   "outputs": [
    {
     "data": {
      "text/html": [
       "<div>\n",
       "<style scoped>\n",
       "    .dataframe tbody tr th:only-of-type {\n",
       "        vertical-align: middle;\n",
       "    }\n",
       "\n",
       "    .dataframe tbody tr th {\n",
       "        vertical-align: top;\n",
       "    }\n",
       "\n",
       "    .dataframe thead th {\n",
       "        text-align: right;\n",
       "    }\n",
       "</style>\n",
       "<table border=\"1\" class=\"dataframe\">\n",
       "  <thead>\n",
       "    <tr style=\"text-align: right;\">\n",
       "      <th></th>\n",
       "      <th>Invoice</th>\n",
       "      <th>StockCode</th>\n",
       "      <th>Description</th>\n",
       "      <th>Quantity</th>\n",
       "      <th>InvoiceDate</th>\n",
       "      <th>Price</th>\n",
       "      <th>Customer ID</th>\n",
       "      <th>Country</th>\n",
       "      <th>total_sales</th>\n",
       "      <th>Cust_ID</th>\n",
       "      <th>Age</th>\n",
       "      <th>Gender</th>\n",
       "    </tr>\n",
       "  </thead>\n",
       "  <tbody>\n",
       "    <tr>\n",
       "      <th>0</th>\n",
       "      <td>493446</td>\n",
       "      <td>10002</td>\n",
       "      <td>INFLATABLE POLITICAL GLOBE</td>\n",
       "      <td>3</td>\n",
       "      <td>2010-04-01 14:00:00</td>\n",
       "      <td>0.85</td>\n",
       "      <td>17807</td>\n",
       "      <td>United Kingdom</td>\n",
       "      <td>2.55</td>\n",
       "      <td>17807</td>\n",
       "      <td>31</td>\n",
       "      <td>FEMALE</td>\n",
       "    </tr>\n",
       "    <tr>\n",
       "      <th>1</th>\n",
       "      <td>493446</td>\n",
       "      <td>21004</td>\n",
       "      <td>ROSE DU SUD CHILDS APRON</td>\n",
       "      <td>2</td>\n",
       "      <td>2010-04-01 14:00:00</td>\n",
       "      <td>4.25</td>\n",
       "      <td>17807</td>\n",
       "      <td>United Kingdom</td>\n",
       "      <td>8.50</td>\n",
       "      <td>17807</td>\n",
       "      <td>31</td>\n",
       "      <td>FEMALE</td>\n",
       "    </tr>\n",
       "    <tr>\n",
       "      <th>2</th>\n",
       "      <td>507413</td>\n",
       "      <td>21080</td>\n",
       "      <td>SET/20 RED SPOTTY PAPER NAPKINS</td>\n",
       "      <td>2</td>\n",
       "      <td>2010-09-05 14:07:00</td>\n",
       "      <td>0.85</td>\n",
       "      <td>17807</td>\n",
       "      <td>United Kingdom</td>\n",
       "      <td>1.70</td>\n",
       "      <td>17807</td>\n",
       "      <td>31</td>\n",
       "      <td>FEMALE</td>\n",
       "    </tr>\n",
       "    <tr>\n",
       "      <th>3</th>\n",
       "      <td>493446</td>\n",
       "      <td>21181</td>\n",
       "      <td>PLEASE ONE PERSON  METAL SIGN</td>\n",
       "      <td>1</td>\n",
       "      <td>2010-04-01 14:00:00</td>\n",
       "      <td>2.10</td>\n",
       "      <td>17807</td>\n",
       "      <td>United Kingdom</td>\n",
       "      <td>2.10</td>\n",
       "      <td>17807</td>\n",
       "      <td>31</td>\n",
       "      <td>FEMALE</td>\n",
       "    </tr>\n",
       "    <tr>\n",
       "      <th>4</th>\n",
       "      <td>493446</td>\n",
       "      <td>21198</td>\n",
       "      <td>WHITE HEART CONFETTI IN TUBE</td>\n",
       "      <td>1</td>\n",
       "      <td>2010-04-01 14:00:00</td>\n",
       "      <td>1.65</td>\n",
       "      <td>17807</td>\n",
       "      <td>United Kingdom</td>\n",
       "      <td>1.65</td>\n",
       "      <td>17807</td>\n",
       "      <td>31</td>\n",
       "      <td>FEMALE</td>\n",
       "    </tr>\n",
       "  </tbody>\n",
       "</table>\n",
       "</div>"
      ],
      "text/plain": [
       "  Invoice StockCode                       Description  Quantity  \\\n",
       "0  493446     10002       INFLATABLE POLITICAL GLOBE          3   \n",
       "1  493446     21004          ROSE DU SUD CHILDS APRON         2   \n",
       "2  507413     21080  SET/20 RED SPOTTY PAPER NAPKINS          2   \n",
       "3  493446     21181     PLEASE ONE PERSON  METAL SIGN         1   \n",
       "4  493446     21198      WHITE HEART CONFETTI IN TUBE         1   \n",
       "\n",
       "          InvoiceDate  Price Customer ID         Country  total_sales Cust_ID  \\\n",
       "0 2010-04-01 14:00:00   0.85       17807  United Kingdom         2.55   17807   \n",
       "1 2010-04-01 14:00:00   4.25       17807  United Kingdom         8.50   17807   \n",
       "2 2010-09-05 14:07:00   0.85       17807  United Kingdom         1.70   17807   \n",
       "3 2010-04-01 14:00:00   2.10       17807  United Kingdom         2.10   17807   \n",
       "4 2010-04-01 14:00:00   1.65       17807  United Kingdom         1.65   17807   \n",
       "\n",
       "   Age  Gender  \n",
       "0   31  FEMALE  \n",
       "1   31  FEMALE  \n",
       "2   31  FEMALE  \n",
       "3   31  FEMALE  \n",
       "4   31  FEMALE  "
      ]
     },
     "execution_count": 169,
     "metadata": {},
     "output_type": "execute_result"
    }
   ],
   "source": [
    "# menggabungkan dataframe transaksi 2010\n",
    "df_10_join = pd.merge(df_10,df_cust, how = 'inner', left_on = 'Customer ID', right_on='Cust_ID')\n",
    "\n",
    "df_10_join.head()"
   ]
  },
  {
   "cell_type": "code",
   "execution_count": 170,
   "metadata": {},
   "outputs": [
    {
     "data": {
      "text/html": [
       "<div>\n",
       "<style scoped>\n",
       "    .dataframe tbody tr th:only-of-type {\n",
       "        vertical-align: middle;\n",
       "    }\n",
       "\n",
       "    .dataframe tbody tr th {\n",
       "        vertical-align: top;\n",
       "    }\n",
       "\n",
       "    .dataframe thead th {\n",
       "        text-align: right;\n",
       "    }\n",
       "</style>\n",
       "<table border=\"1\" class=\"dataframe\">\n",
       "  <thead>\n",
       "    <tr style=\"text-align: right;\">\n",
       "      <th></th>\n",
       "      <th>Invoice</th>\n",
       "      <th>StockCode</th>\n",
       "      <th>Description</th>\n",
       "      <th>Quantity</th>\n",
       "      <th>InvoiceDate</th>\n",
       "      <th>Price</th>\n",
       "      <th>Customer ID</th>\n",
       "      <th>Country</th>\n",
       "      <th>total_sales</th>\n",
       "      <th>Cust_ID</th>\n",
       "      <th>Age</th>\n",
       "      <th>Gender</th>\n",
       "    </tr>\n",
       "  </thead>\n",
       "  <tbody>\n",
       "    <tr>\n",
       "      <th>0</th>\n",
       "      <td>540277</td>\n",
       "      <td>10002</td>\n",
       "      <td>INFLATABLE POLITICAL GLOBE</td>\n",
       "      <td>60</td>\n",
       "      <td>2011-06-01 12:18:00</td>\n",
       "      <td>0.85</td>\n",
       "      <td>14258</td>\n",
       "      <td>United Kingdom</td>\n",
       "      <td>51.0</td>\n",
       "      <td>14258</td>\n",
       "      <td>21</td>\n",
       "      <td>FEMALE</td>\n",
       "    </tr>\n",
       "    <tr>\n",
       "      <th>1</th>\n",
       "      <td>549412</td>\n",
       "      <td>20685</td>\n",
       "      <td>DOORMAT RED RETROSPOT</td>\n",
       "      <td>10</td>\n",
       "      <td>2011-08-04 11:43:00</td>\n",
       "      <td>6.75</td>\n",
       "      <td>14258</td>\n",
       "      <td>United Kingdom</td>\n",
       "      <td>67.5</td>\n",
       "      <td>14258</td>\n",
       "      <td>21</td>\n",
       "      <td>FEMALE</td>\n",
       "    </tr>\n",
       "    <tr>\n",
       "      <th>2</th>\n",
       "      <td>566227</td>\n",
       "      <td>20685</td>\n",
       "      <td>DOORMAT RED RETROSPOT</td>\n",
       "      <td>10</td>\n",
       "      <td>2011-11-09 10:42:00</td>\n",
       "      <td>7.08</td>\n",
       "      <td>14258</td>\n",
       "      <td>United Kingdom</td>\n",
       "      <td>70.8</td>\n",
       "      <td>14258</td>\n",
       "      <td>21</td>\n",
       "      <td>FEMALE</td>\n",
       "    </tr>\n",
       "    <tr>\n",
       "      <th>3</th>\n",
       "      <td>540277</td>\n",
       "      <td>20725</td>\n",
       "      <td>LUNCH BAG RED RETROSPOT</td>\n",
       "      <td>30</td>\n",
       "      <td>2011-06-01 12:18:00</td>\n",
       "      <td>1.65</td>\n",
       "      <td>14258</td>\n",
       "      <td>United Kingdom</td>\n",
       "      <td>49.5</td>\n",
       "      <td>14258</td>\n",
       "      <td>21</td>\n",
       "      <td>FEMALE</td>\n",
       "    </tr>\n",
       "    <tr>\n",
       "      <th>4</th>\n",
       "      <td>554353</td>\n",
       "      <td>20725</td>\n",
       "      <td>LUNCH BAG RED RETROSPOT</td>\n",
       "      <td>20</td>\n",
       "      <td>2011-05-24 09:10:00</td>\n",
       "      <td>1.65</td>\n",
       "      <td>14258</td>\n",
       "      <td>United Kingdom</td>\n",
       "      <td>33.0</td>\n",
       "      <td>14258</td>\n",
       "      <td>21</td>\n",
       "      <td>FEMALE</td>\n",
       "    </tr>\n",
       "  </tbody>\n",
       "</table>\n",
       "</div>"
      ],
      "text/plain": [
       "  Invoice StockCode                  Description  Quantity  \\\n",
       "0  540277     10002  INFLATABLE POLITICAL GLOBE         60   \n",
       "1  549412     20685        DOORMAT RED RETROSPOT        10   \n",
       "2  566227     20685        DOORMAT RED RETROSPOT        10   \n",
       "3  540277     20725      LUNCH BAG RED RETROSPOT        30   \n",
       "4  554353     20725      LUNCH BAG RED RETROSPOT        20   \n",
       "\n",
       "          InvoiceDate  Price Customer ID         Country  total_sales Cust_ID  \\\n",
       "0 2011-06-01 12:18:00   0.85       14258  United Kingdom         51.0   14258   \n",
       "1 2011-08-04 11:43:00   6.75       14258  United Kingdom         67.5   14258   \n",
       "2 2011-11-09 10:42:00   7.08       14258  United Kingdom         70.8   14258   \n",
       "3 2011-06-01 12:18:00   1.65       14258  United Kingdom         49.5   14258   \n",
       "4 2011-05-24 09:10:00   1.65       14258  United Kingdom         33.0   14258   \n",
       "\n",
       "   Age  Gender  \n",
       "0   21  FEMALE  \n",
       "1   21  FEMALE  \n",
       "2   21  FEMALE  \n",
       "3   21  FEMALE  \n",
       "4   21  FEMALE  "
      ]
     },
     "execution_count": 170,
     "metadata": {},
     "output_type": "execute_result"
    }
   ],
   "source": [
    "# menggabungkan dataframe transaksi 2011\n",
    "df_11_join = pd.merge(df_11,df_cust, how = 'inner', left_on = 'Customer ID', right_on='Cust_ID')\n",
    "\n",
    "df_11_join.head()"
   ]
  },
  {
   "cell_type": "markdown",
   "metadata": {},
   "source": [
    "****Menyimpan Data Hasil Proses****"
   ]
  },
  {
   "cell_type": "markdown",
   "metadata": {},
   "source": [
    "Kita akan simpan data yang sudah di proses untuk digunakan di sesi selanjutnya."
   ]
  },
  {
   "cell_type": "code",
   "execution_count": 173,
   "metadata": {},
   "outputs": [],
   "source": [
    "# Menyimpan data menjadi csv\n",
    "df_10_join.to_csv('output/transaksi_10_ready.csv')\n",
    "df_11_join.to_csv('output/transaksi_11_ready.csv')"
   ]
  },
  {
   "cell_type": "markdown",
   "metadata": {},
   "source": [
    "### 3. Eksplorasi dan Visualisasi Data "
   ]
  },
  {
   "cell_type": "code",
   "execution_count": null,
   "metadata": {},
   "outputs": [],
   "source": []
  },
  {
   "cell_type": "markdown",
   "metadata": {},
   "source": [
    "#### Barang apa yang paling banyak terjual?\n",
    "Column Chart"
   ]
  },
  {
   "cell_type": "code",
   "execution_count": null,
   "metadata": {},
   "outputs": [],
   "source": []
  },
  {
   "cell_type": "code",
   "execution_count": null,
   "metadata": {},
   "outputs": [],
   "source": []
  },
  {
   "cell_type": "code",
   "execution_count": null,
   "metadata": {},
   "outputs": [],
   "source": []
  },
  {
   "cell_type": "markdown",
   "metadata": {},
   "source": [
    "#### Siapa Customer yang besar nilai belanjanya?\n",
    "Column Chart"
   ]
  },
  {
   "cell_type": "code",
   "execution_count": null,
   "metadata": {},
   "outputs": [],
   "source": []
  },
  {
   "cell_type": "code",
   "execution_count": null,
   "metadata": {},
   "outputs": [],
   "source": []
  },
  {
   "cell_type": "code",
   "execution_count": null,
   "metadata": {},
   "outputs": [],
   "source": []
  },
  {
   "cell_type": "markdown",
   "metadata": {},
   "source": [
    "#### Bagaimana Perbandingan Penjualan Pria dan Wanita\n",
    "Pie Chart"
   ]
  },
  {
   "cell_type": "code",
   "execution_count": null,
   "metadata": {},
   "outputs": [],
   "source": []
  },
  {
   "cell_type": "code",
   "execution_count": null,
   "metadata": {},
   "outputs": [],
   "source": []
  },
  {
   "cell_type": "code",
   "execution_count": null,
   "metadata": {},
   "outputs": [],
   "source": []
  },
  {
   "cell_type": "markdown",
   "metadata": {},
   "source": [
    "#### Bagaimana Total Penjualan dari Hari ke Hari\n",
    "Line Chart"
   ]
  },
  {
   "cell_type": "code",
   "execution_count": null,
   "metadata": {},
   "outputs": [],
   "source": []
  },
  {
   "cell_type": "code",
   "execution_count": null,
   "metadata": {},
   "outputs": [],
   "source": []
  },
  {
   "cell_type": "markdown",
   "metadata": {},
   "source": [
    "#### Distribusi Data Menggunakan Boxplot\n",
    "Boxplot\n"
   ]
  },
  {
   "cell_type": "code",
   "execution_count": null,
   "metadata": {},
   "outputs": [],
   "source": []
  },
  {
   "cell_type": "code",
   "execution_count": null,
   "metadata": {},
   "outputs": [],
   "source": []
  },
  {
   "cell_type": "code",
   "execution_count": null,
   "metadata": {},
   "outputs": [],
   "source": []
  },
  {
   "cell_type": "markdown",
   "metadata": {},
   "source": [
    "#### Hubungan Price dan Quantity\n",
    "Scatterplot"
   ]
  },
  {
   "cell_type": "code",
   "execution_count": null,
   "metadata": {},
   "outputs": [],
   "source": []
  },
  {
   "cell_type": "code",
   "execution_count": null,
   "metadata": {},
   "outputs": [],
   "source": []
  },
  {
   "cell_type": "code",
   "execution_count": null,
   "metadata": {},
   "outputs": [],
   "source": []
  }
 ],
 "metadata": {
  "colab": {
   "authorship_tag": "ABX9TyMeYwZLekDhLNEahnTA6COJ",
   "include_colab_link": true,
   "mount_file_id": "1so37fNrsq4cF3iausJn8UaseVFeJtSe5",
   "name": "Untitled0.ipynb",
   "provenance": []
  },
  "kernelspec": {
   "display_name": "Python 3",
   "language": "python",
   "name": "python3"
  },
  "language_info": {
   "codemirror_mode": {
    "name": "ipython",
    "version": 3
   },
   "file_extension": ".py",
   "mimetype": "text/x-python",
   "name": "python",
   "nbconvert_exporter": "python",
   "pygments_lexer": "ipython3",
   "version": "3.7.6"
  }
 },
 "nbformat": 4,
 "nbformat_minor": 4
}
